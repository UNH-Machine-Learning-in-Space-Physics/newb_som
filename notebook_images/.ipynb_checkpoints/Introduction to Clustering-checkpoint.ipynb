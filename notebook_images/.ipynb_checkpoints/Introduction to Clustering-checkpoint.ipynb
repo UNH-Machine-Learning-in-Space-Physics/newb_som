{
 "cells": [
  {
   "cell_type": "markdown",
   "id": "7bbbf803",
   "metadata": {},
   "source": [
    "# Introduction #\n",
    "\n",
    "We'll cover the concept of clustering through several popular models. But first, it should be known that there are two major forms of clustering: \n",
    "\n",
    "<ol>\n",
    "    <li> Hard clustering: Something belongs to a cluster, or not - nothing in between <\\li>\n",
    "    <li> Soft clustering: Something belongs to a cluster according to some probability\n",
    "<\\ol>"
   ]
  },
  {
   "cell_type": "markdown",
   "id": "cd65ed5e",
   "metadata": {},
   "source": [
    "<img src=\"peach.png\" width=\"200\"/>\n",
    "\n",
    "<img src=\"apple.jpg\" width=\"200\"/>"
   ]
  },
  {
   "cell_type": "markdown",
   "id": "9fd10685",
   "metadata": {},
   "source": [
    "## Models Covered ##\n"
   ]
  }
 ],
 "metadata": {
  "kernelspec": {
   "display_name": "Python 3 (ipykernel)",
   "language": "python",
   "name": "python3"
  },
  "language_info": {
   "codemirror_mode": {
    "name": "ipython",
    "version": 3
   },
   "file_extension": ".py",
   "mimetype": "text/x-python",
   "name": "python",
   "nbconvert_exporter": "python",
   "pygments_lexer": "ipython3",
   "version": "3.9.16"
  }
 },
 "nbformat": 4,
 "nbformat_minor": 5
}
